{
 "cells": [
  {
   "cell_type": "markdown",
   "metadata": {},
   "source": [
    "# Unsupervised Gaussian clustering\n",
    "\n",
    "Experiment:\n",
    "\n",
    "1. Generate cluster centroids from an `n_dim` Gaussian with `std_centers` standard deviation\n",
    "2. Generate `n_samples` points for each of the `n_clusters` centered at cluster centroids with `std_clusters` standard deviation\n",
    "3. Evaluate metric to compare ground truth cluster assignments and hebbian-lms predictions\n",
    "4. Train Hebbian-LMS network on the dataset\n",
    "5. Evaluate metric\n",
    "\n",
    "The chosen metric is adjusted mutual information. This value is 1.0 for perfect cluster assignment (irrespective of permutation of cluster indices) and 0.0 for completely independent ground truth and prediction cluster assignments."
   ]
  },
  {
   "cell_type": "code",
   "execution_count": 1,
   "metadata": {},
   "outputs": [],
   "source": [
    "import numpy as np\n",
    "import pandas as pd\n",
    "import matplotlib.pyplot as plt\n",
    "from sklearn.datasets import make_blobs\n",
    "from hebbian_lms import HebbLMSNet\n",
    "from sklearn import metrics"
   ]
  },
  {
   "cell_type": "code",
   "execution_count": 2,
   "metadata": {},
   "outputs": [],
   "source": [
    "std_centers = 10\n",
    "std_clusters = 1\n",
    "n_dim = 50\n",
    "n_samples = 25000\n",
    "random_state = 42\n",
    "\n",
    "np.random.seed(random_state)\n",
    "\n",
    "n_epochs = 20 # Number of epochs to train\n",
    "n_epochs_save = 20 # Number of epochs to save training error for"
   ]
  },
  {
   "cell_type": "code",
   "execution_count": 3,
   "metadata": {},
   "outputs": [],
   "source": [
    "# Generate centers with std_centers\n",
    "centers, y = make_blobs(n_samples=25, centers=np.zeros((1,n_dim)), n_features=n_dim, cluster_std=std_centers,\n",
    "                   random_state=random_state)\n",
    "\n",
    "X, y = make_blobs(n_samples=n_samples, centers=centers, n_features=n_dim, cluster_std=std_clusters,\n",
    "                   random_state=random_state)"
   ]
  },
  {
   "cell_type": "code",
   "execution_count": 4,
   "metadata": {},
   "outputs": [],
   "source": [
    "# Create hebbian lms network\n",
    "hlms = HebbLMSNet(input_size=n_dim, layer_sizes=[16], excitatory_ratio=-1, percent=False, gamma=0.5, mu=0.0001)"
   ]
  },
  {
   "cell_type": "code",
   "execution_count": 5,
   "metadata": {},
   "outputs": [
    {
     "name": "stdout",
     "output_type": "stream",
     "text": [
      "Clustering performance (adjusted mutual information) 0.8451443321730974\n"
     ]
    }
   ],
   "source": [
    "# Make predictions and evaluate metric\n",
    "y_hat = hlms.predict(X)\n",
    "ami = metrics.adjusted_mutual_info_score(y, y_hat)\n",
    "print('Clustering performance (adjusted mutual information)', ami)"
   ]
  },
  {
   "cell_type": "code",
   "execution_count": 6,
   "metadata": {},
   "outputs": [
    {
     "name": "stdout",
     "output_type": "stream",
     "text": [
      "Epoch 0 mse: 4.026252591865732\n",
      "Epoch 1 mse: 0.20945573934123884\n",
      "Epoch 2 mse: 0.09052993141381895\n",
      "Epoch 3 mse: 0.06989948131192768\n",
      "Epoch 4 mse: 0.0656130280681038\n",
      "Epoch 5 mse: 0.06820254410388296\n",
      "Epoch 6 mse: 0.05474897094034637\n",
      "Epoch 7 mse: 0.020672709870095837\n",
      "Epoch 8 mse: 0.007810673501208739\n",
      "Epoch 9 mse: 0.005648248827465568\n",
      "Epoch 10 mse: 0.005334706460825366\n",
      "Epoch 11 mse: 0.005274787816127951\n",
      "Epoch 12 mse: 0.005248887318380541\n",
      "Epoch 13 mse: 0.005227885342841722\n",
      "Epoch 14 mse: 0.005207938943688023\n",
      "Epoch 15 mse: 0.0051885384753310336\n",
      "Epoch 16 mse: 0.005169610556278092\n",
      "Epoch 17 mse: 0.005151137562725109\n",
      "Epoch 18 mse: 0.005133108575801727\n",
      "Epoch 19 mse: 0.00511551343040805\n"
     ]
    }
   ],
   "source": [
    "# Train network\n",
    "errors = np.zeros((n_samples*n_epochs_save,))\n",
    "for n in range(n_epochs):\n",
    "    _, _, error = hlms.fit(X)\n",
    "    mse = np.mean(error**2, axis=1)\n",
    "    if n < n_epochs_save:\n",
    "        # Save errors for first n_epochs_save epochs\n",
    "        errors[n*n_samples:n_samples*(n+1)] = mse\n",
    "    epoch_mse = np.mean(mse)\n",
    "    print(f\"Epoch {n} mse: {epoch_mse}\")\n",
    "    prev_error = epoch_mse"
   ]
  },
  {
   "cell_type": "code",
   "execution_count": 7,
   "metadata": {},
   "outputs": [
    {
     "data": {
      "image/png": "[encoded data removed]",
      "text/plain": [
       "<Figure size 432x288 with 1 Axes>"
      ]
     },
     "metadata": {
      "needs_background": "light"
     },
     "output_type": "display_data"
    }
   ],
   "source": [
    "plt.semilogy(errors);\n",
    "plt.title('Learning curve for network');\n",
    "plt.xlabel('Number of iterations');\n",
    "plt.ylabel('Mean squared error for all output neurons');"
   ]
  },
  {
   "cell_type": "code",
   "execution_count": 8,
   "metadata": {},
   "outputs": [
    {
     "name": "stdout",
     "output_type": "stream",
     "text": [
      "Clustering performance (adjusted mutual information) 1.0\n"
     ]
    }
   ],
   "source": [
    "# Make predictions and evaluate metric\n",
    "y_hat = hlms.predict(X)\n",
    "ami = metrics.adjusted_mutual_info_score(y, y_hat)\n",
    "print('Clustering performance (adjusted mutual information)', ami)"
   ]
  }
 ],
 "metadata": {
  "kernelspec": {
   "display_name": "Python 3",
   "language": "python",
   "name": "python3"
  },
  "language_info": {
   "codemirror_mode": {
    "name": "ipython",
    "version": 3
   },
   "file_extension": ".py",
   "mimetype": "text/x-python",
   "name": "python",
   "nbconvert_exporter": "python",
   "pygments_lexer": "ipython3",
   "version": "3.7.1"
  }
 },
 "nbformat": 4,
 "nbformat_minor": 4
}
